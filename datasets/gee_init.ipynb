{
 "cells": [
  {
   "cell_type": "markdown",
   "id": "a5996661",
   "metadata": {},
   "source": [
    "# GEE Authentication"
   ]
  },
  {
   "cell_type": "markdown",
   "id": "73e47d66",
   "metadata": {},
   "source": [
    "Before running gee_fetch.py you need to authenticate your GEE academic account.\n",
    "To do so run the code and follow the provided instructions.\n",
    "\n",
    "If after running the script you can see a preview of the map, you can proceed with the gee_fetch.py script to obtain the Spain and Himalayas datasets. "
   ]
  },
  {
   "cell_type": "code",
   "execution_count": null,
   "id": "04d9afa9",
   "metadata": {},
   "outputs": [],
   "source": [
    "import ee\n",
    "import geemap\n",
    "\n",
    "ee.Authenticate()\n",
    "ee.Initialize()\n",
    "\n",
    "Map = geemap.Map()\n",
    "Map"
   ]
  }
 ],
 "metadata": {
  "kernelspec": {
   "display_name": "Python 3.9.12 ('gee')",
   "language": "python",
   "name": "python3"
  },
  "language_info": {
   "codemirror_mode": {
    "name": "ipython",
    "version": 3
   },
   "file_extension": ".py",
   "mimetype": "text/x-python",
   "name": "python",
   "nbconvert_exporter": "python",
   "pygments_lexer": "ipython3",
   "version": "3.11.4"
  },
  "toc": {
   "base_numbering": 1,
   "nav_menu": {},
   "number_sections": true,
   "sideBar": true,
   "skip_h1_title": false,
   "title_cell": "Table of Contents",
   "title_sidebar": "Contents",
   "toc_cell": false,
   "toc_position": {},
   "toc_section_display": true,
   "toc_window_display": false
  },
  "vscode": {
   "interpreter": {
    "hash": "3189f666df1bff68c8c4b3c44a7594c398dc13b90986c7ef1a1cdffabc54847d"
   }
  }
 },
 "nbformat": 4,
 "nbformat_minor": 5
}
